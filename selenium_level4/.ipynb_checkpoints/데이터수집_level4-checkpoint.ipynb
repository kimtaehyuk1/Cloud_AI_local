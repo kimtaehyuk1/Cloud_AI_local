{
 "cells": [
  {
   "cell_type": "code",
   "execution_count": 5,
   "id": "1eda85af-6bc0-4fea-8177-5f0d9ee698b1",
   "metadata": {},
   "outputs": [],
   "source": [
    "# 셀레니늄 모듈 설치\n",
    "# 별도 터미널에서 진행\n",
    "# https://selenium-python.readthedocs.io/ 셀레니움 파이썬에 관련된 공홈\n",
    "# !conda install selenium -y"
   ]
  },
  {
   "cell_type": "code",
   "execution_count": 6,
   "id": "5380e464-a94a-4a12-80f8-d48293bdf1a9",
   "metadata": {},
   "outputs": [],
   "source": [
    "# 셀레니움 모듈 가져오기(웹드라이버만)\n",
    "from selenium import webdriver as wd\n",
    "# 시간\n",
    "import time"
   ]
  },
  {
   "cell_type": "code",
   "execution_count": 7,
   "id": "23589fee-3ae2-474e-869b-f8581f8aa5e4",
   "metadata": {},
   "outputs": [],
   "source": [
    "# 웹드라이버 프로그램 준비\n",
    "# 통상 크롬을 사용한다면, 개발 PC에 설치된 크롬 버전과 동일한 웹드라이버 획득\n",
    "# 버전 107.0.5304.107(공식 빌드) (64비트)\n",
    "# https://chromedriver.chromium.org/downloads 여기접속\n",
    "# 웹드라이버 가동\n",
    "driver = wd.Chrome('./chromedriver.exe')"
   ]
  },
  {
   "cell_type": "code",
   "execution_count": 10,
   "id": "520a00b8-cec5-47a6-8c4b-45cd96815cce",
   "metadata": {},
   "outputs": [],
   "source": [
    "# 접속\n",
    "# 사이트가 로딩되는 속도가 천차 만별이다.\n",
    "# 로딩이 완료되었는지 검사하는 루틴이 필요\n",
    "# 귀찮으면 명시적으로 특정 시간을 대기하면 된다.\n",
    "driver.get('https://www.starbucks.co.kr/store/store_map.do?disp=locale')\n",
    "\n",
    "# 강제로 10초 대기(명시적 대기)\n",
    "time.sleep(1*10)"
   ]
  },
  {
   "cell_type": "code",
   "execution_count": null,
   "id": "ebe3ebf1-4325-4719-aac1-13506f64fe92",
   "metadata": {},
   "outputs": [],
   "source": []
  }
 ],
 "metadata": {
  "kernelspec": {
   "display_name": "base",
   "language": "python",
   "name": "python3"
  },
  "language_info": {
   "name": "python",
   "version": "3.9.13 (main, Aug 25 2022, 23:51:50) [MSC v.1916 64 bit (AMD64)]"
  },
  "vscode": {
   "interpreter": {
    "hash": "263930470851f494f0ed2879c35b57985588df20f9e529b86e97dd5eb9ddc466"
   }
  }
 },
 "nbformat": 4,
 "nbformat_minor": 5
}
