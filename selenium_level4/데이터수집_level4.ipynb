{
 "cells": [
  {
   "cell_type": "code",
   "execution_count": 73,
   "id": "1eda85af-6bc0-4fea-8177-5f0d9ee698b1",
   "metadata": {},
   "outputs": [],
   "source": [
    "# 셀레니늄 모듈 설치\n",
    "# 별도 터미널에서 진행\n",
    "# https://selenium-python.readthedocs.io/ 셀레니움 파이썬에 관련된 공홈\n",
    "# !conda install selenium -y"
   ]
  },
  {
   "cell_type": "code",
   "execution_count": 93,
   "id": "5380e464-a94a-4a12-80f8-d48293bdf1a9",
   "metadata": {},
   "outputs": [],
   "source": [
    "# 셀레니움 모듈 가져오기(웹드라이버만)\n",
    "# 액션이 있는 난이도 있는 웹에서 긁을라고 셀레니윰 뜬다.\n",
    "from selenium import webdriver as wd\n",
    "# 시간\n",
    "import time"
   ]
  },
  {
   "cell_type": "code",
   "execution_count": 97,
   "id": "23589fee-3ae2-474e-869b-f8581f8aa5e4",
   "metadata": {},
   "outputs": [],
   "source": [
    "# 웹드라이버 프로그램 준비\n",
    "# 통상 크롬을 사용한다면, 개발 PC에 설치된 크롬 버전과 동일한 웹드라이버 획득\n",
    "# 버전 107.0.5304.107(공식 빌드) (64비트)\n",
    "# https://chromedriver.chromium.org/downloads 여기접속\n",
    "# 웹드라이버 가동\n",
    "driver = wd.Chrome('./chromedriver.exe')"
   ]
  },
  {
   "cell_type": "code",
   "execution_count": 95,
   "id": "520a00b8-cec5-47a6-8c4b-45cd96815cce",
   "metadata": {},
   "outputs": [],
   "source": [
    "# 접속\n",
    "# 사이트가 로딩되는 속도가 천차 만별이다.\n",
    "# 로딩이 완료되었는지 검사하는 루틴이 필요\n",
    "# 귀찮으면 명시적으로 특정 시간을 대기하면 된다.\n",
    "driver.get('https://www.starbucks.co.kr/store/store_map.do?disp=locale')\n",
    "\n",
    "# 강제로 10초 대기(명시적 대기)\n",
    "time.sleep(1*3)"
   ]
  },
  {
   "cell_type": "code",
   "execution_count": 12,
   "id": "ebe3ebf1-4325-4719-aac1-13506f64fe92",
   "metadata": {},
   "outputs": [],
   "source": [
    "# 시도를 특정한다\n",
    "# 주관적으로 수행했는데 반복성이 안보여서, 기계적으로 생성\n",
    "# 셀레니움 css selector가 간혹 잘 안될떄도 있어서 잘 되는 표현으로 사용\n",
    "# 길어도 특정한놈 1개만 있는거 잡으면 그 앞으로 지워도딤\n",
    "'''\n",
    "div.loca_step1_cont > ul > li:nth-child(1) > a\n",
    "'''\n",
    "# 서울클릭\n",
    "css_sel = 'div.loca_step1_cont > ul > li:nth-child(1) > a'\n",
    "si_do_a_tag = driver.find_element_by_css_selector(css_sel)\n",
    "si_do_a_tag.click()\n",
    "\n",
    "time.sleep(1*3)"
   ]
  },
  {
   "cell_type": "code",
   "execution_count": 13,
   "id": "b7404081-e163-495a-ad7d-e170da5522d9",
   "metadata": {},
   "outputs": [],
   "source": [
    "# 시군구 클릭\n",
    "# 서울 > 중구 클릭 실행 => 전체가 있다 => 전체 클릭으로 변경\n",
    "css_sel2 = '#mCSB_2_container > ul > li:nth-child(1) > a'\n",
    "driver.find_element_by_css_selector(css_sel2).click()\n",
    "\n",
    "time.sleep(1*3)"
   ]
  },
  {
   "cell_type": "code",
   "execution_count": 83,
   "id": "1672e270-294c-4b73-be9e-dd64ce06fc61",
   "metadata": {},
   "outputs": [
    {
     "data": {
      "text/plain": [
       "598"
      ]
     },
     "execution_count": 83,
     "metadata": {},
     "output_type": "execute_result"
    }
   ],
   "source": [
    "# 최종 목적 페이지까지 로드되면, 셀레니늄으로 처리할지, BS4로 처리할지 결정 필요\n",
    "len(driver.find_elements_by_css_selector('#mCSB_3_container > ul > li'))"
   ]
  },
  {
   "cell_type": "code",
   "execution_count": 14,
   "id": "e72dffe7-2038-4f1d-a246-051d2d9c3398",
   "metadata": {},
   "outputs": [],
   "source": [
    "#BS4\n",
    "from bs4 import BeautifulSoup\n",
    "src = driver.page_source  # 현재 페이지의 HTML 소스\n",
    "soup = BeautifulSoup(src,'html5lib')"
   ]
  },
  {
   "cell_type": "code",
   "execution_count": 15,
   "id": "409852fc-bc00-41a1-8f03-a4d733c27218",
   "metadata": {},
   "outputs": [
    {
     "data": {
      "text/plain": [
       "598"
      ]
     },
     "execution_count": 15,
     "metadata": {},
     "output_type": "execute_result"
    }
   ],
   "source": [
    "len( soup.select('#mCSB_3_container > ul > li'))\n",
    "# .quickSearchResultBoxSidoGugun > li 이렇게 해도됨 li 부모 특정한거임(독립적이니까 하나밖에없으니까)"
   ]
  },
  {
   "cell_type": "code",
   "execution_count": 20,
   "id": "6ce3f5cd",
   "metadata": {},
   "outputs": [
    {
     "data": {
      "text/plain": [
       "(598,\n",
       " {'name': '역삼아레나빌딩',\n",
       "  'lat': 37.501087,\n",
       "  'long': 127.043069,\n",
       "  'code': '3762',\n",
       "  'storecd': '1509',\n",
       "  'addr': '서울특별시 강남구 언주로 425 (역삼동)',\n",
       "  'spec': 'general'})"
      ]
     },
     "execution_count": 20,
     "metadata": {},
     "output_type": "execute_result"
    }
   ],
   "source": [
    "# 추출정보 : 전국구의 지점명, 위도, 경도, 주소\n",
    "starbucks_store_infos = list()\n",
    "for li in soup.select('.quickSearchResultBoxSidoGugun > li'):\n",
    "    starbucks_store_infos.append({\n",
    "        'name': li.get('data-name') , # 지점명, 속성값 추출 => 요소.get('속성이름')\n",
    "        'lat' : float( li.get('data-lat') ) ,   # 위도 -> float()\n",
    "        'long': float( li.get('data-long')) ,   # 경도 -> float() \n",
    "        'code': li.get('data-code') , # 지점코드\n",
    "        'storecd': li.get('data-storecd') ,                 # 관리코드(?)\n",
    "        'addr': li.p.text.strip()[:len('1522-3232')*-1] ,   # 전화번호가 모두 동일하다\n",
    "        'spec': li.i.get('class')[0][len('pin_'):]  # class는 속성값으로 뽑으면 리스트로 나온다(특징), pin_ 제거    \n",
    "    })\n",
    "    #break\n",
    "len( starbucks_store_infos ),starbucks_store_infos[0]"
   ]
  },
  {
   "cell_type": "code",
   "execution_count": 21,
   "id": "9baa1f33",
   "metadata": {},
   "outputs": [
    {
     "data": {
      "text/plain": [
       "(598,\n",
       " {'name': '중화역',\n",
       "  'lat': 37.60170912407773,\n",
       "  'long': 127.07841136432036,\n",
       "  'code': '3801',\n",
       "  'storecd': '1749',\n",
       "  'addr': '서울특별시 중랑구 봉화산로 35 ',\n",
       "  'spec': 'general'})"
      ]
     },
     "execution_count": 21,
     "metadata": {},
     "output_type": "execute_result"
    }
   ],
   "source": [
    "starbucks_store_infos = [ {\n",
    "        'name': li.get('data-name') , # 지점명, 속성값 추출 => 요소.get('속성이름')!!!!!!!!!!!!!!!\n",
    "        'lat' : float( li.get('data-lat') ) ,   # 위도 -> float()\n",
    "        'long': float( li.get('data-long')) ,   # 경도 -> float() \n",
    "        'code': li.get('data-code') , # 지점코드\n",
    "        'storecd': li.get('data-storecd') ,                 # 관리코드(?)\n",
    "        'addr': li.p.text.strip()[:len('1522-3232')*-1] ,   # 전화번호가 모두 동일하다\n",
    "        'spec': li.i.get('class')[0][len('pin_'):]  # class는 속성값으로 뽑으면 리스트로 나온다(특징)->그래서[0]해준거다, pin_ 제거    \n",
    "} for li in soup.select('.quickSearchResultBoxSidoGugun > li') ]\n",
    "\n",
    "len(starbucks_store_infos), starbucks_store_infos[-1]"
   ]
  },
  {
   "cell_type": "markdown",
   "id": "a705da07",
   "metadata": {},
   "source": [
    "- 전개 순서\n",
    "    - 시도 개수만큼 반복(17) => 사전 조사를 통해서 반복횟수를 결정\n",
    "        - https://www.starbucks.co.kr/store/store_map.do?disp=locale 접속\n",
    "            - 난수*5초 대기\n",
    "        - 시도 선택\n",
    "            - 난수*3초 대기\n",
    "        - 전체 선택\n",
    "            - 난수*초 대기\n",
    "        - 추출\n",
    "            - 난수*1초 대기\n",
    "    - 난수를 사용해서 대기시간을 미세하게 조정해주면, 반복적으로 데이터 수집해 상대방 사이트에서 패턴이 잡히지 않는다."
   ]
  },
  {
   "cell_type": "code",
   "execution_count": 99,
   "id": "e778da05",
   "metadata": {},
   "outputs": [
    {
     "data": {
      "text/plain": [
       "0.1"
      ]
     },
     "execution_count": 99,
     "metadata": {},
     "output_type": "execute_result"
    }
   ],
   "source": [
    "import random\n",
    "term_make = lambda x,y:random.randint(x,y)*0.1 # 0.1 ~ 0.9까지 나옴 , term_make는 여기서 함수이다.\n",
    "term_make(1,5)"
   ]
  },
  {
   "cell_type": "code",
   "execution_count": 29,
   "id": "dc270d9a-bc9f-4a26-88c6-4f0a3b029c37",
   "metadata": {},
   "outputs": [
    {
     "name": "stdout",
     "output_type": "stream",
     "text": [
      "1016\n"
     ]
    }
   ],
   "source": [
    "from bs4 import BeautifulSoup\n",
    "\n",
    "import random\n",
    "\n",
    "term_make = lambda x,y:random.randint(x,y)*0.1 # 0.1 ~ 0.9까지 나옴\n",
    "driver = wd.Chrome('./chromedriver.exe')\n",
    "# 모든 지점의 정보를 담는 그릇\n",
    "starbucks_store_infos = list()\n",
    "\n",
    "for sido_idx in range(1,17+1):\n",
    "    # 초기 진입 사이트 접속\n",
    "    driver.get('https://www.starbucks.co.kr/store/store_map.do?disp=locale')\n",
    "    time.sleep(1*5+term_make(1,5)) #5초는 깔고 함수로 0.1~0.9 더해서 난수 가미\n",
    "\n",
    "    # 시도 선택\n",
    "    css_sel = f'div.loca_step1_cont > ul > li:nth-child({sido_idx}) > a'  # 이건 문자열 li:nth-child(1)여기가 1번이니까 서울이었다.\n",
    "    si_do_a_tag = driver.find_element_by_css_selector(css_sel)\n",
    "    si_do_a_tag.click()\n",
    "    time.sleep(1*5+term_make(1,5))\n",
    "\n",
    "    # 전체 선택, 1번 멤버가 무조건 전체이다 -> 고정\n",
    "    css_sel = '#mCSB_2_container > ul > li:nth-child(1) > a'\n",
    "    driver.find_element_by_css_selector(css_sel).click()\n",
    "    time.sleep(1*5+term_make(1,5))\n",
    "\n",
    "    # 정보 추출 (셀레니움 방식과 뷰티풀수프 방식)\n",
    "    # soup(DOM Tree) 생성\n",
    "    src = driver.page_source  # 현재 페이지의 HTML 소스 \n",
    "    soup = BeautifulSoup(src,'html5lib')\n",
    "\n",
    "    # 정보추출\n",
    "    starbucks_store_local_infos = [ {\n",
    "        'name': li.get('data-name') , # 지점명, 속성값 추출 => 요소.get('속성이름')\n",
    "        'lat' : float( li.get('data-lat') ) ,   # 위도 -> float()\n",
    "        'long': float( li.get('data-long')) ,   # 경도 -> float() \n",
    "        'code': li.get('data-code') , # 지점코드\n",
    "        'storecd': li.get('data-storecd') ,                 # 관리코드(?)\n",
    "        'addr': li.p.text.strip()[:len('1522-3232')*-1] ,   # 전화번호가 모두 동일하다\n",
    "        'spec': li.i.get('class')[0][len('pin_'):]  # class는 속성값으로 뽑으면 리스트로 나온다(특징), pin_ 제거    \n",
    "    } for li in soup.select('.quickSearchResultBoxSidoGugun > li') ] \n",
    "\n",
    "    # starbucks_store_infos에 starbucks_store_local_infos값 하나하나를 멤버로 추가한다. 우리는 리스트안 리스트말고 동급인 리스트안 딕셔너리 원함\n",
    "    starbucks_store_infos.extend(starbucks_store_local_infos)  # 동등한 위치로 들어감\n",
    "    \n",
    "    if sido_idx ==2 :\n",
    "        print(len(starbucks_store_infos))\n",
    "        #print(starbucks_store_infos)\n",
    "        break\n",
    "   "
   ]
  },
  {
   "cell_type": "code",
   "execution_count": null,
   "id": "09630dc6",
   "metadata": {},
   "outputs": [],
   "source": [
    "a = []\n",
    "b = [1,2]\n",
    "c = [3,4]\n",
    "# a.append(b) #[[1,2]]\n",
    "a.extend(b) #[1,2]\n",
    "a.extend(c) #[1,2,3,4]  -> 같은 급으로 들어감"
   ]
  },
  {
   "cell_type": "code",
   "execution_count": 23,
   "id": "d9d05b0f-2225-4e6b-af74-05e9f51b5c77",
   "metadata": {},
   "outputs": [],
   "source": [
    "# 브라우저 닫기\n",
    "driver.close()\n",
    "driver.quit()\n",
    "\n",
    "#파이썬 파일에서 사용\n",
    "# import sys\n",
    "# sys.exit(0)"
   ]
  },
  {
   "cell_type": "code",
   "execution_count": null,
   "id": "0cc54eac",
   "metadata": {},
   "outputs": [],
   "source": [
    "import pandas as pd\n",
    "df = pd.DataFrame.from_dict(starbucks_store_infos)\n",
    "df.to_excel('starbucks_store_full.xlsx', index=False)"
   ]
  }
 ],
 "metadata": {
  "kernelspec": {
   "display_name": "Python 3 (ipykernel)",
   "language": "python",
   "name": "python3"
  },
  "language_info": {
   "codemirror_mode": {
    "name": "ipython",
    "version": 3
   },
   "file_extension": ".py",
   "mimetype": "text/x-python",
   "name": "python",
   "nbconvert_exporter": "python",
   "pygments_lexer": "ipython3",
   "version": "3.9.13"
  },
  "vscode": {
   "interpreter": {
    "hash": "263930470851f494f0ed2879c35b57985588df20f9e529b86e97dd5eb9ddc466"
   }
  }
 },
 "nbformat": 4,
 "nbformat_minor": 5
}
